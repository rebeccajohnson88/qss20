{
 "cells": [
  {
   "cell_type": "markdown",
   "metadata": {},
   "source": [
    "(dartmouth_policies)=\n",
    "\n",
    "# Dartmouth Policies\n",
    "\n",
    "## Student Accessibility and Accommodations\n",
    "\n",
    "Students with disabilities who may need disability-related academic adjustments and services for this course are encouraged to see me privately as early in the term as possible. Students requiring disability-related academic adjustments and services must consult the [Student Accessibility Services](https://students.dartmouth.edu/student-accessibility/) office (Carson Hall, Suite 125, 646-9900). Once SAS has authorized services, students must show the originally signed SAS Services and Consent Form and/or a letter on SAS letterhead to their professor. As a first step, if students have questions about whether they qualify to receive academic adjustments and services, they should contact the SAS office. All inquiries and discussions will remain confidential.\n",
    "\n",
    "## Religious Observances\n",
    "\n",
    "Some students may wish to take part in religious observances that occur during this academic term. If you have a religious observance that conflicts with your participation in the course, please meet with me before the end of the second week of the term to discuss appropriate accommodations.\n",
    "\n",
    "\n",
    "## Absences\n",
    "\n",
    "I will not be taking attendance. However, the classes are meant to provide you hands-on experience practicing the concepts, with the opportunity to get help from myself and classmates, so missing substantial amounts may translate into worse problem set and final project performance.\n",
    "\n",
    "## Academic Integrity\n",
    "\n",
    "Fundamental to the principle of independent learning are the requirements of honesty and integrity in the performance of academic assignments, both in the classroom and outside. Dartmouth operates on the principle of academic honor, without proctoring of examinations. Any student who submits work which is not his or her own, or who commits other acts of academic dishonesty, violates the purposes of the College and is subject to disciplinary actions, up to and including suspension or separation. Applied to this course, while I encourage collaboration on assignments and use of resources like StackOverflow, the problem sets will ask you to list who you worked on the problem set with and cite StackOverflow if it is the direct source of a code snippet. More information on Dartmouth's policies can be found [at this link](https://dcal.dartmouth.edu/resources/course-design-preparation/syllabus-guide)."
   ]
  }
 ],
 "metadata": {
  "jupytext": {
   "text_representation": {
    "extension": ".md",
    "format_name": "myst"
   }
  },
  "kernelspec": {
   "display_name": "Python 3",
   "language": "python",
   "name": "python3"
  },
  "language_info": {
   "codemirror_mode": {
    "name": "ipython",
    "version": 3
   },
   "file_extension": ".py",
   "mimetype": "text/x-python",
   "name": "python",
   "nbconvert_exporter": "python",
   "pygments_lexer": "ipython3",
   "version": "3.8.5"
  },
  "source_map": [
   10
  ]
 },
 "nbformat": 4,
 "nbformat_minor": 4
}