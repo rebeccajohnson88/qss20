{
 "cells": [
  {
   "cell_type": "code",
   "execution_count": 1,
   "metadata": {
    "tags": [
     "hide_input"
    ]
   },
   "outputs": [
    {
     "data": {
      "text/html": [
       "<table border=\"1\" class=\"dataframe\">\n",
       "  <thead>\n",
       "    <tr style=\"text-align: right;\">\n",
       "      <th>Assignments</th>\n",
       "      <th>Percentage</th>\n",
       "      <th>Deadlines</th>\n",
       "    </tr>\n",
       "  </thead>\n",
       "  <tbody>\n",
       "    <tr>\n",
       "      <td>Datacamp modules</td>\n",
       "      <td>5</td>\n",
       "      <td>Throughout</td>\n",
       "    </tr>\n",
       "    <tr>\n",
       "      <td>Two problem sets</td>\n",
       "      <td>30</td>\n",
       "      <td>Pset one: Thurs. 04-15;                   Pset two: Thurs. 05-13</td>\n",
       "    </tr>\n",
       "    <tr>\n",
       "      <td>Final project</td>\n",
       "      <td>45</td>\n",
       "      <td>Presentation: Tuesday 06-01; Short paper: Friday 05-28</td>\n",
       "    </tr>\n",
       "    <tr>\n",
       "      <td>Replication of another group's project</td>\n",
       "      <td>15</td>\n",
       "      <td>Sunday 06-06</td>\n",
       "    </tr>\n",
       "    <tr>\n",
       "      <td>Team player/participation</td>\n",
       "      <td>5</td>\n",
       "      <td>Throughout</td>\n",
       "    </tr>\n",
       "  </tbody>\n",
       "</table>"
      ],
      "text/plain": [
       "<IPython.core.display.HTML object>"
      ]
     },
     "execution_count": 1,
     "metadata": {},
     "output_type": "execute_result"
    }
   ],
   "source": [
    "## import modules\n",
    "import pandas as pd\n",
    "\n",
    "from IPython.display import display, HTML\n",
    "\n",
    "grade_summary = pd.DataFrame({'Assignments':\n",
    "                [\"Datacamp modules\",\n",
    "                  \"Two problem sets\",\n",
    "                  \"Final project\",\n",
    "                  \"Replication of another group's project\",\n",
    "                  \"Team player/participation\"],\n",
    "                'Percentage':\n",
    "                [5, \n",
    "                  30,\n",
    "                  45,\n",
    "                  15, 5],\n",
    "                'Deadlines':\n",
    "                [\"Throughout\",\n",
    "                  \"Pset one: Thurs. 04-15; \\\n",
    "                  Pset two: Thurs. 05-13\",\n",
    "                  \"Presentation: Tuesday 06-01; Short paper: Friday 05-28\",\n",
    "                  \"Sunday 06-06\",\n",
    "                  \"Throughout\"]}) \n",
    "\n",
    "HTML(grade_summary.to_html(index=False))"
   ]
  },
  {
   "cell_type": "code",
   "execution_count": null,
   "metadata": {},
   "outputs": [],
   "source": []
  }
 ],
 "metadata": {
  "celltoolbar": "Tags",
  "kernelspec": {
   "display_name": "Python 3",
   "language": "python",
   "name": "python3"
  },
  "language_info": {
   "codemirror_mode": {
    "name": "ipython",
    "version": 3
   },
   "file_extension": ".py",
   "mimetype": "text/x-python",
   "name": "python",
   "nbconvert_exporter": "python",
   "pygments_lexer": "ipython3",
   "version": "3.8.3"
  }
 },
 "nbformat": 4,
 "nbformat_minor": 4
}