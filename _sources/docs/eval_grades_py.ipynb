{
 "cells": [
  {
   "cell_type": "markdown",
   "metadata": {},
   "source": [
    "# Evaluation and grading\n",
    "\n",
    "## Summary and grading policy\n",
    "\n",
    "You will have four cumulative late days for assignments, that can be apportioned as you see fit between the problem set one and problem set two. Late days cannot be used for the final project or final presentation. If you run over and have not submitted the pset by the following Monday, I ask that you not attend class as not to see the answers. There will be a deduction of 10 percentage points for each late day after you have used your allowed late days.\n",
    "\n",
    "Grades may be curved if there are no students receiving A's on the non-curved grading scale. "
   ]
  },
  {
   "cell_type": "code",
   "execution_count": 3,
   "metadata": {
    "tags": [
     "hide_input"
    ]
   },
   "outputs": [
    {
     "data": {
      "text/html": [
       "<table border=\"1\" class=\"dataframe\">\n",
       "  <thead>\n",
       "    <tr style=\"text-align: right;\">\n",
       "      <th>Assignments</th>\n",
       "      <th>Percentage</th>\n",
       "      <th>Deadlines</th>\n",
       "    </tr>\n",
       "  </thead>\n",
       "  <tbody>\n",
       "    <tr>\n",
       "      <td>Datacamp modules</td>\n",
       "      <td>5</td>\n",
       "      <td>Throughout</td>\n",
       "    </tr>\n",
       "    <tr>\n",
       "      <td>Two problem sets</td>\n",
       "      <td>30</td>\n",
       "      <td>Pset one: Thurs. 04-15;                   Pset two: Thurs. 05-13</td>\n",
       "    </tr>\n",
       "    <tr>\n",
       "      <td>Final project</td>\n",
       "      <td>45</td>\n",
       "      <td>Presentation: Tuesday 06-01; Short paper: Friday 05-28</td>\n",
       "    </tr>\n",
       "    <tr>\n",
       "      <td>Replication of another group's project</td>\n",
       "      <td>15</td>\n",
       "      <td>Sunday 06-06</td>\n",
       "    </tr>\n",
       "    <tr>\n",
       "      <td>Team player/participation</td>\n",
       "      <td>5</td>\n",
       "      <td>Throughout</td>\n",
       "    </tr>\n",
       "  </tbody>\n",
       "</table>"
      ],
      "text/plain": [
       "<IPython.core.display.HTML object>"
      ]
     },
     "execution_count": 3,
     "metadata": {},
     "output_type": "execute_result"
    }
   ],
   "source": [
    "## import modules\n",
    "import pandas as pd\n",
    "\n",
    "from IPython.display import display, HTML\n",
    "\n",
    "grade_summary = pd.DataFrame({'Assignments':\n",
    "                [\"Datacamp modules\",\n",
    "                  \"Two problem sets\",\n",
    "                  \"Final project\",\n",
    "                  \"Replication of another group's project\",\n",
    "                  \"Team player/participation\"],\n",
    "                'Percentage':\n",
    "                [5, \n",
    "                  30,\n",
    "                  45,\n",
    "                  15, 5],\n",
    "                'Deadlines':\n",
    "                [\"Throughout\",\n",
    "                  \"Pset one: Thurs. 04-15; \\\n",
    "                  Pset two: Thurs. 05-13\",\n",
    "                  \"Presentation: Tuesday 06-01; Short paper: Friday 05-28\",\n",
    "                  \"Sunday 06-06\",\n",
    "                  \"Throughout\"]}) \n",
    "\n",
    "HTML(grade_summary.to_html(index=False))"
   ]
  },
  {
   "cell_type": "markdown",
   "metadata": {},
   "source": [
    "## Details\n",
    "\n",
    "### Datacamp modules to support programming topics (5% of grade)\n",
    "\n",
    "The DataCamp modules are mainly to support your work on the problem sets and final project by giving you additional practice prior to our in-class activities. As a result, they will be graded on a \"complete\" and \"incomplete\" basis, regardless of how many points you received on the assignment itself. This means that you shouldn't get stuck partway through, since you can always ask to be shown the answer with a points deduction. Conversely, if the concepts are review, these should be very quick to complete, but if you'd prefer to skip, you can talk to me and I will reapportion the 5\\% to your second problem set.\n",
    "\n",
    "### Two problem sets (15% of grade, each; 30% total)\n",
    "\n",
    "DataCamp provides a very smooth introduction to programming, in the sense that they provide you with example code that gets you ~80\\% of the way to the solution, with you needing to apply that code to reach the other ~20\\%. \n",
    "\n",
    "In contrast, the two problems sets will assess your ability to apply the concepts to data that is substantially messier, and problems that are substantially more difficult, than the ones in the DataCamp modules. More details on the problem sets will be provided the week before each is released,  but roughly, the workflow will be:\n",
    "\n",
    "- Accessing the problem set and data via GitHub and/or jhub\n",
    "- Working to produce the following outputs for each problem set:\n",
    "  - A raw .ipynb (or .Rmd file) with the code for the pset\n",
    "  - A compiled pdf that displays that code, as well as the answers to the written questions. These written questions will involve using some Latex syntax for equations and formatting.\n",
    "  - When applicable (e.g., part of the pset is run in script form), a supporting .py or .R file\n",
    "  \n",
    "The problem sets will be graded on both accuracy and programming style. For instance, by our second problem set, you will have learned to write functions. The problem set will be designed to test those concepts and if you revert, for instance, to writing repeated code that could be replaced with a function, points will be deducted even if that inefficient code arrives at the correct answer. \n",
    "\n",
    "**Collaboration**: problem set one will be 80\\% group based and 20\\% individual (each person will submit a single problem set reflecting the work of the group for the first 80\\% and your own work for the individual problem). Problem set two will be fully individual. You should ask all questions on Slack in public channels and I may ask you to delete a post if it shows too much of a solution.\n",
    "\n",
    "### Final project (45% of grade)\n",
    "\n",
    "- I will randomly assign groups of 3-4 a few meetings in to the quarter. I've found that this is more effective than letting you choose your own groups for teaching you how to collaborate on technical projects with people who you may not always see eye to eye with!\n",
    "- I'll be releasing instructions on Canvas for three project milestones \n",
    "- Each group will work on a project that integrates the concepts we are covering into an applied data science project. The end product will be a github repository that contains:\n",
    "\n",
    "  - The raw source data you used for the project. This will include portions of the data I provide to all groups and external data sources you bring to the project.\n",
    "  - A pre-analysis plan where you pre-commit to certain analyses with the data: this will be especially important for the other group to be able to replicate your work.\n",
    "  - A README for the repository that, for each file, describes in detail:\n",
    "    - Inputs to the file: e.g., raw data; a file containing credentials needed to access an API/\n",
    "    - What the file does: describe major transformations.\n",
    "    - Output: if the file produces any outputs (e.g., a cleaned dataset; a figure or graph).\n",
    "  - A set of code files that transform that data into a form usable to answer the question you have posed in your descriptive research proposal.\n",
    "  - Final output: \n",
    "    1. A 10-minute presentation, written in Beamer (presented in class on **Tuesday 06-01**).\n",
    "    2. A report written in the computer science-style conference proceedings (10 pages; will share a template; due **Friday May 28th**).\n",
    "\n",
    "    \n",
    "### Replicating another group's final project (15% of grade)\n",
    "\n",
    "An important part of producing *your own* scientific work is to write pre-analysis plans that allow others to replicate your work if they had the same data. Therefore, the second component of the final project is that another group will provide you with:\n",
    "\n",
    "  - The raw source data for their project.\n",
    "  - The pre-analysis plan for their project (modified with any post-analysis edits).\n",
    "  - The final output.\n",
    "\n",
    "You will choose one key figure or component from the final report to replicate. You will then be responsible for trying to replicate the other group's work, without looking at their code. You will then write a 2-page replication report where you summarize 1) whether you were able to replicate their work, 2) if not, what they could have clarified in the pre-analysis plan or final output to enable replication. \n",
    "\n",
    "The replication will be due **Sunday June 6th**.\n",
    "\n",
    "### Team player/participation (5% of grade)\n",
    "\n",
    "We will be using a `#problemset` channel in our class Slack for you to ask questions about roadblocks you encounter with the DataCamp activities or on the problem sets. While I will be answering questions within a window of 24 hours, I encourage you to help each other and answer each other's questions. Your participation grade will reflect whether you've helped your classmates on the forum and your participation in class.\n"
   ]
  },
  {
   "cell_type": "code",
   "execution_count": null,
   "metadata": {},
   "outputs": [],
   "source": []
  }
 ],
 "metadata": {
  "celltoolbar": "Tags",
  "kernelspec": {
   "display_name": "Python 3",
   "language": "python",
   "name": "python3"
  },
  "language_info": {
   "codemirror_mode": {
    "name": "ipython",
    "version": 3
   },
   "file_extension": ".py",
   "mimetype": "text/x-python",
   "name": "python",
   "nbconvert_exporter": "python",
   "pygments_lexer": "ipython3",
   "version": "3.8.3"
  }
 },
 "nbformat": 4,
 "nbformat_minor": 4
}
