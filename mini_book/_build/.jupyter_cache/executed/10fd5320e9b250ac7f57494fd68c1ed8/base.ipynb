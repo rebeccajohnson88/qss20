{
 "cells": [
  {
   "cell_type": "code",
   "execution_count": 1,
   "metadata": {},
   "outputs": [
    {
     "data": {
      "text/plain": [
       "0      Tuesday 03-30\n",
       "1     Thursday 04-01\n",
       "2      Tuesday 04-06\n",
       "3     Thursday 04-08\n",
       "4      Tuesday 04-13\n",
       "5     Thursday 04-15\n",
       "6      Tuesday 04-20\n",
       "7     Thursday 04-22\n",
       "8      Tuesday 04-27\n",
       "9     Thursday 04-29\n",
       "10     Tuesday 05-04\n",
       "11    Thursday 05-06\n",
       "12     Tuesday 05-11\n",
       "13    Thursday 05-13\n",
       "14     Tuesday 05-18\n",
       "15    Thursday 05-20\n",
       "16     Tuesday 05-25\n",
       "17    Thursday 05-27\n",
       "18     Tuesday 06-01\n",
       "Name: date_toprint, dtype: object"
      ]
     },
     "metadata": {},
     "output_type": "display_data"
    }
   ],
   "source": [
    "## import modules\n",
    "import pandas as pd\n",
    "import re\n",
    "\n",
    "## display output\n",
    "from IPython.display import display, HTML\n",
    "\n",
    "## create range b/t start and end date\n",
    "## of course \n",
    "start_date = pd.to_datetime(\"2021-03-29\")\n",
    "end_date = pd.to_datetime(\"2021-06-02\")\n",
    "st_alldates = pd.date_range(start_date, end_date)\n",
    "\n",
    "## subset to days in that range equal to Tuesday or Thursday\n",
    "st_tuth = st_alldates[st_alldates.day_name().isin(['Tuesday', 'Thursday'])]\n",
    "\n",
    "## create data frame with that information\n",
    "st_dates = [re.sub(\"2021\\\\-\", \"\", str(day.date())) for day in st_tuth] \n",
    "course_sched = pd.DataFrame({'dow': st_tuth.day_name(), 'st_tuth': st_dates})\n",
    "course_sched['date_toprint'] = course_sched.dow.astype(str) + \" \" + \\\n",
    "            course_sched.st_tuth.astype(str) \n",
    "course_sched = course_sched['date_toprint']\n",
    "\n",
    "## display the resulting date sequence\n",
    "display(course_sched)"
   ]
  }
 ],
 "metadata": {
  "kernelspec": {
   "display_name": "Python 3",
   "language": "python",
   "name": "python3"
  },
  "language_info": {
   "codemirror_mode": {
    "name": "ipython",
    "version": 3
   },
   "file_extension": ".py",
   "mimetype": "text/x-python",
   "name": "python",
   "nbconvert_exporter": "python",
   "pygments_lexer": "ipython3",
   "version": "3.8.3"
  }
 },
 "nbformat": 4,
 "nbformat_minor": 4
}