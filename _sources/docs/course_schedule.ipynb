{
 "cells": [
  {
   "cell_type": "markdown",
   "metadata": {},
   "source": [
    "## Course schedule\n",
    "\n",
    "Here is the current week-by-week schedule 📅 . We may adjust as we go along. To get started, we're going to create the calendar of weeks for the course programmatically rather than manually!\n"
   ]
  },
  {
   "cell_type": "code",
   "execution_count": 2,
   "metadata": {},
   "outputs": [
    {
     "data": {
      "text/plain": [
       "0      Tuesday 03-30\n",
       "1     Thursday 04-01\n",
       "2      Tuesday 04-06\n",
       "3     Thursday 04-08\n",
       "4      Tuesday 04-13\n",
       "5     Thursday 04-15\n",
       "6      Tuesday 04-20\n",
       "7     Thursday 04-22\n",
       "8      Tuesday 04-27\n",
       "9     Thursday 04-29\n",
       "10     Tuesday 05-04\n",
       "11    Thursday 05-06\n",
       "12     Tuesday 05-11\n",
       "13    Thursday 05-13\n",
       "14     Tuesday 05-18\n",
       "15    Thursday 05-20\n",
       "16     Tuesday 05-25\n",
       "17    Thursday 05-27\n",
       "18     Tuesday 06-01\n",
       "Name: date_toprint, dtype: object"
      ]
     },
     "metadata": {},
     "output_type": "display_data"
    }
   ],
   "source": [
    "## import modules\n",
    "import pandas as pd\n",
    "import re\n",
    "import numpy as np\n",
    "\n",
    "\n",
    "## tell python to display output and print multiple objects\n",
    "from IPython.display import display, HTML\n",
    "from IPython.core.interactiveshell import InteractiveShell\n",
    "InteractiveShell.ast_node_interactivity = \"all\"\n",
    "\n",
    "## create range b/t start and end date\n",
    "## of course \n",
    "start_date = pd.to_datetime(\"2021-03-29\")\n",
    "end_date = pd.to_datetime(\"2021-06-02\")\n",
    "st_alldates = pd.date_range(start_date, end_date)\n",
    "\n",
    "## subset to days in that range equal to Tuesday or Thursday\n",
    "st_tuth = st_alldates[st_alldates.day_name().isin(['Tuesday', 'Thursday'])]\n",
    "\n",
    "## create data frame with that information\n",
    "st_dates = [re.sub(\"2021\\\\-\", \"\", str(day.date())) for day in st_tuth] \n",
    "course_sched = pd.DataFrame({'dow': st_tuth.day_name(), 'st_tuth': st_dates})\n",
    "course_sched['date_toprint'] = course_sched.dow.astype(str) + \" \" + \\\n",
    "            course_sched.st_tuth.astype(str) \n",
    "course_sched = course_sched['date_toprint']\n",
    "\n",
    "## display the resulting date sequence\n",
    "display(course_sched)\n",
    "\n",
    "## next block of code creates the\n",
    "## actual content; can click \"show\"\n",
    "## to see the underlying code"
   ]
  },
  {
   "cell_type": "code",
   "execution_count": 23,
   "metadata": {
    "tags": [
     "hide_input"
    ]
   },
   "outputs": [
    {
     "data": {
      "text/plain": [
       "19"
      ]
     },
     "execution_count": 23,
     "metadata": {},
     "output_type": "execute_result"
    },
    {
     "data": {
      "text/plain": [
       "19"
      ]
     },
     "execution_count": 23,
     "metadata": {},
     "output_type": "execute_result"
    }
   ],
   "source": [
    "## create the actual content\n",
    "\n",
    "### list of concepts\n",
    "concepts = [\"Course intro. and checking software setup\",\n",
    "             \"Workflow basics: command line, Github workflow, basic LaTeX syntax, pre-analysis plans\",\n",
    "            \"Workflow basics (continued)\",\n",
    "             \"Python pandas review: aggregation, joins, lambda and user-defined functions\",\n",
    "            \"Python pandas review: aggregation, joins, lambda and user-defined functions\",\n",
    "             \"Python pandas review: aggregation, joins, lambda and user-defined functions\",\n",
    "            \"Problem set one work session\",\n",
    "            \"Merging: exact merges and basic regex\",\n",
    "            \"Merging: probabilistic merge and more regex\",\n",
    "            \"Merging (continued) and PSET 1 review\",\n",
    "            \"SQL via Python\",\n",
    "             \"Text as data part one\",\n",
    "            \"Text as data part two\",\n",
    "             \"Python: spatial data using geopandas\",\n",
    "             \"Python: reading data from APIs and basic web scraping\",\n",
    "             \"High-performance computing\",\n",
    "            \"TBD\",\n",
    "             \"Workflow: Beamer and Tikz graphics\",\n",
    "             \"Final presentations\"]\n",
    "\n",
    "len(course_sched)\n",
    "len(concepts)\n",
    "## combine\n",
    "course_sched_concepts = pd.DataFrame({'Week': course_sched,\n",
    "                                     'Concepts': concepts})\n",
    "\n",
    "df = course_sched_concepts.copy()\n",
    "\n"
   ]
  },
  {
   "cell_type": "code",
   "execution_count": 21,
   "metadata": {
    "tags": [
     "hide_input"
    ]
   },
   "outputs": [],
   "source": [
    "## add datacamp modules conditionally\n",
    "col = \"Concepts\"\n",
    "\n",
    "### older code on more exhaustive modules\n",
    "# topics  = [df[col] == \"Python basic data wrangling: data structures (vectors; lists; dataframes; matrices), control flow, and loops\", \n",
    "#                df[col] == \"Python basic data wrangling: basic regular expressions and text mining\",\n",
    "#                df[col] ==  \"Python basic data wrangling: combining data (row binds, column binds, joins); aggregation\",\n",
    "#                df[col] == \"Review of visualization: ggplot; plotnine\",\n",
    "#                df[col] == \"Python: writing your own functions\",\n",
    "#                df[col] == \"Python: text data using nltk and gensim\",\n",
    "#                df[col] ==  \"SQL: reading data from a database and basic SQL (postgres) syntax\",\n",
    "#                df[col] == \"SQL: more advanced SQL syntax (subqueries; window functions)\",\n",
    "#                df[col] == \"Python: reading data from APIs and basic web scraping\"]\n",
    "# datacamp_modules = [\"Python basics; python lists; Pandas: extracting and transforming data; Intermediate python for data science (loops)\",\n",
    "#                    \"First three modules of regular expressions in Python\",\n",
    "#                    \"Merging DataFrames with Pandas\",\n",
    "#                    \"Introduction to Data Visualization with ggplot2\",\n",
    "#                    \"Python data science toolbox (Part one): user-written functions, default args, lambda functions and error handling\",\n",
    "#                    \"Natural language processing fundamentals in Python\",\n",
    "#                    \"Introduction to databases in Python\",\n",
    "#                    \"Intermediate SQL\",\n",
    "#                    \"Importing JSON data and working with APIs; Importing data from the Internet\"]\n",
    "\n",
    "topics_trunc = [df[col] ==  \"Workflow basics (continued)\",\n",
    "               df[col] == \"Merging (continued) and PSET 1 review\"]\n",
    "datacamp_modules_trunc = [\"Data manipulation with Pandas\",\n",
    "                         \"Regular expressions for pattern matching\"]\n",
    "\n",
    "df[\"DataCamp module(s) (if any)\"] = np.select(topics_trunc, \n",
    "                                     datacamp_modules_trunc, \n",
    "                                     default = \"\")\n",
    "\n",
    "\n",
    "date_col = \"Week\"\n",
    "due_dates = [df[date_col] == \"Tuesday 04-20\",\n",
    "            df[date_col] == \"Tuesday 04-27\",\n",
    "             df[date_col] == \"Tuesday 05-04\",\n",
    "            df[date_col] == \"Thursday 05-13\",\n",
    "             df[date_col] == \"Thursday 05-20\",\n",
    "            df[date_col] == \"Tuesday 06-01\"]\n",
    "assig = [\"Problem set one\",\n",
    "        \"Final project step 1\",\n",
    "         \"Final project step 2\",\n",
    "        \"Problem set two\",\n",
    "         \"Final project step 3\",\n",
    "        \"Slides for final presentation (due Monday 05.31 at 9 am)\"]\n",
    "\n",
    "df[\"Due (11:59 PM EST unless otherwise specified)\"] = np.select(due_dates,\n",
    "                     assig,\n",
    "                     default = \"\")\n",
    "\n",
    "## add slides or tutorial link\n",
    "df['Link to slides or tutorial'] = np.select([df[\"Concepts\"] == \"Course intro. and checking software setup\",\n",
    "                                             df[\"Concepts\"] == \"Workflow basics: command line, Github workflow, basic LaTeX syntax, pre-analysis plans\"],\n",
    "                                            [\"https://github.com/rebeccajohnson88/qss20_slides_activities/blob/main/slides/qss20_s21_class1.pdf\",\n",
    "                                            \"https://github.com/rebeccajohnson88/qss20_slides_activities/blob/main/slides/qss20_s21_class2.pdf\"],\n",
    "                                            default = \"\")\n",
    "\n",
    "df['Link to slides or tutorial'] = np.where(df['Link to slides or tutorial'] != \"\",\n",
    "                        '<a target=\"_blank\" href=' + df['Link to slides or tutorial'] + '><div>' + \"Link\" + '</div></a>',\n",
    "                        \"\")\n",
    "\n",
    "df['Link to activity (blank)'] = np.select([df[\"Concepts\"] == \"Workflow basics: command line, Github workflow, basic LaTeX syntax, pre-analysis plans\"],\n",
    "                                            [\"https://github.com/rebeccajohnson88/qss20_slides_activities/blob/main/activities/00_latex_output_examples.ipynb\"],\n",
    "                                            default = \"\")\n",
    "\n",
    "df['Link to activity (blank)'] = np.where(df['Link to activity (blank)'] != \"\",\n",
    "                        '<a target=\"_blank\" href=' + df['Link to activity (blank)'] + '><div>' + \"Link\" + '</div></a>',\n",
    "                        \"\")\n"
   ]
  },
  {
   "cell_type": "code",
   "execution_count": 24,
   "metadata": {
    "tags": [
     "hide_input"
    ]
   },
   "outputs": [
    {
     "data": {
      "text/html": [
       "<table border=\"1\" class=\"dataframe\">\n",
       "  <thead>\n",
       "    <tr style=\"text-align: right;\">\n",
       "      <th>Week</th>\n",
       "      <th>Concepts</th>\n",
       "    </tr>\n",
       "  </thead>\n",
       "  <tbody>\n",
       "    <tr>\n",
       "      <td>Tuesday 03-30</td>\n",
       "      <td>Course intro. and checking software setup</td>\n",
       "    </tr>\n",
       "    <tr>\n",
       "      <td>Thursday 04-01</td>\n",
       "      <td>Workflow basics: command line, Github workflow, basic LaTeX syntax, pre-analysis plans</td>\n",
       "    </tr>\n",
       "    <tr>\n",
       "      <td>Tuesday 04-06</td>\n",
       "      <td>Workflow basics (continued)</td>\n",
       "    </tr>\n",
       "    <tr>\n",
       "      <td>Thursday 04-08</td>\n",
       "      <td>Python pandas review: aggregation, joins, lambda and user-defined functions</td>\n",
       "    </tr>\n",
       "    <tr>\n",
       "      <td>Tuesday 04-13</td>\n",
       "      <td>Python pandas review: aggregation, joins, lambda and user-defined functions</td>\n",
       "    </tr>\n",
       "    <tr>\n",
       "      <td>Thursday 04-15</td>\n",
       "      <td>Python pandas review: aggregation, joins, lambda and user-defined functions</td>\n",
       "    </tr>\n",
       "    <tr>\n",
       "      <td>Tuesday 04-20</td>\n",
       "      <td>Problem set one work session</td>\n",
       "    </tr>\n",
       "    <tr>\n",
       "      <td>Thursday 04-22</td>\n",
       "      <td>Merging: exact merges and basic regex</td>\n",
       "    </tr>\n",
       "    <tr>\n",
       "      <td>Tuesday 04-27</td>\n",
       "      <td>Merging: probabilistic merge and more regex</td>\n",
       "    </tr>\n",
       "    <tr>\n",
       "      <td>Thursday 04-29</td>\n",
       "      <td>Merging (continued) and PSET 1 review</td>\n",
       "    </tr>\n",
       "    <tr>\n",
       "      <td>Tuesday 05-04</td>\n",
       "      <td>SQL via Python</td>\n",
       "    </tr>\n",
       "    <tr>\n",
       "      <td>Thursday 05-06</td>\n",
       "      <td>Text as data part one</td>\n",
       "    </tr>\n",
       "    <tr>\n",
       "      <td>Tuesday 05-11</td>\n",
       "      <td>Text as data part two</td>\n",
       "    </tr>\n",
       "    <tr>\n",
       "      <td>Thursday 05-13</td>\n",
       "      <td>Python: spatial data using geopandas</td>\n",
       "    </tr>\n",
       "    <tr>\n",
       "      <td>Tuesday 05-18</td>\n",
       "      <td>Python: reading data from APIs and basic web scraping</td>\n",
       "    </tr>\n",
       "    <tr>\n",
       "      <td>Thursday 05-20</td>\n",
       "      <td>High-performance computing</td>\n",
       "    </tr>\n",
       "    <tr>\n",
       "      <td>Tuesday 05-25</td>\n",
       "      <td>TBD</td>\n",
       "    </tr>\n",
       "    <tr>\n",
       "      <td>Thursday 05-27</td>\n",
       "      <td>Workflow: Beamer and Tikz graphics</td>\n",
       "    </tr>\n",
       "    <tr>\n",
       "      <td>Tuesday 06-01</td>\n",
       "      <td>Final presentations</td>\n",
       "    </tr>\n",
       "  </tbody>\n",
       "</table>"
      ],
      "text/plain": [
       "<IPython.core.display.HTML object>"
      ]
     },
     "execution_count": 24,
     "metadata": {},
     "output_type": "execute_result"
    }
   ],
   "source": [
    "HTML(df.to_html(index=False, escape = False))"
   ]
  }
 ],
 "metadata": {
  "celltoolbar": "Tags",
  "kernelspec": {
   "display_name": "Python 3",
   "language": "python",
   "name": "python3"
  },
  "language_info": {
   "codemirror_mode": {
    "name": "ipython",
    "version": 3
   },
   "file_extension": ".py",
   "mimetype": "text/x-python",
   "name": "python",
   "nbconvert_exporter": "python",
   "pygments_lexer": "ipython3",
   "version": "3.8.3"
  }
 },
 "nbformat": 4,
 "nbformat_minor": 4
}
