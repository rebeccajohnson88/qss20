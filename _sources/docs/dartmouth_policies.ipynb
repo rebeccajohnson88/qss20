{
 "cells": [
  {
   "cell_type": "markdown",
   "metadata": {},
   "source": [
    "(dartmouth_policies)=\n",
    "\n",
    "# Dartmouth Policies\n",
    "\n",
    "## Student Accessibility and Accommodations\n",
    "\n",
    "Students with disabilities who may need disability-related academic adjustments and services for this course are encouraged to see me privately as early in the term as possible. Students requiring disability-related academic adjustments and services must consult the [Student Accessibility Services](https://students.dartmouth.edu/student-accessibility/) office (Carson Hall, Suite 125, 646-9900). Once SAS has authorized services, students must show the originally signed SAS Services and Consent Form and/or a letter on SAS letterhead to their professor. As a first step, if students have questions about whether they qualify to receive academic adjustments and services, they should contact the SAS office. All inquiries and discussions will remain confidential.\n",
    "\n",
    "## Religious Observances\n",
    "\n",
    "Some students may wish to take part in religious observances that occur during this academic term. If you have a religious observance that conflicts with your participation in the course, please meet with me before the end of the second week of the term to discuss appropriate accommodations.\n",
    "\n",
    "\n",
    "## Absences\n",
    "\n",
    "I will not be taking attendance. However, the classes are meant to provide you hands-on experience practicing the concepts, with the opportunity to get help from myself and classmates, so missing substantial amounts may translate into worse problem set and final project performance.\n",
    "\n",
    "## Academic Integrity\n",
    "\n",
    "Fundamental to the principle of independent learning are the requirements of honesty and integrity in the performance of academic assignments, both in the classroom and outside. Dartmouth operates on the principle of academic honor, without proctoring of examinations. Any student who submits work which is not his or her own, or who commits other acts of academic dishonesty, violates the purposes of the College and is subject to disciplinary actions, up to and including suspension or separation. Applied to this course, while I encourage collaboration on assignments and use of resources like StackOverflow, the problem sets will ask you to list who you worked on the problem set with and cite StackOverflow if it is the direct source of a code snippet. More information on Dartmouth's policies can be found [at this link](https://dcal.dartmouth.edu/resources/course-design-preparation/syllabus-guide).\n",
    "\n",
    "## Video recording\n",
    "\n",
    "We will be using the Zoom linked to Canvas for the synchronous sessions and group office hours. Here's Dartmouth's policy on recording:\n",
    "\n",
    "(1) Consent to recording of course meetings and office hours that are open to multiple students.\n",
    "\n",
    "By enrolling in this course,\n",
    "\n",
    "a) I affirm my understanding that the instructor may record meetings of this course and any associated meetings\n",
    "open to multiple students and the instructor, including but not limited to scheduled and ad hoc office hours and other\n",
    "consultations, within any digital platform, including those used to offer remote instruction for this course.\n",
    "\n",
    "b) I further affirm that the instructor owns the copyright to their instructional materials, of which these recordings\n",
    "constitute a part, and my distribution of any of these recordings in whole or in part to any person or entity other than\n",
    "other members of the class without prior written consent of the instructor may be subject to discipline by Dartmouth\n",
    "up to and including separation from Dartmouth.\n",
    "\n",
    "(2) Requirement of consent to one-on-one recordings\n",
    "By enrolling in this course, I hereby affirm that I will not make a recording in any medium of any one-on-one\n",
    "meeting with the instructor or another member of the class or group of members of the class without obtaining the\n",
    "prior written consent of all those participating, and I understand that if I violate this prohibition, I will be subject to\n",
    "discipline by Dartmouth up to and including separation from Dartmouth, as well as any other civil or criminal\n",
    "penalties under applicable law. I understand that an exception to this consent applies to accommodations approved\n",
    "by SAS for a student’s disability, and that one or more students in a class may record class lectures, discussions, lab\n",
    "sessions, and review sessions and take pictures of essential information, and/or be provided class notes for personal\n",
    "study use only.\n",
    "\n",
    "If you have questions, please contact the Office of the Dean of the Faculty of Arts and Sciences."
   ]
  }
 ],
 "metadata": {
  "jupytext": {
   "text_representation": {
    "extension": ".md",
    "format_name": "myst"
   }
  },
  "kernelspec": {
   "display_name": "Python 3",
   "language": "python",
   "name": "python3"
  },
  "language_info": {
   "codemirror_mode": {
    "name": "ipython",
    "version": 3
   },
   "file_extension": ".py",
   "mimetype": "text/x-python",
   "name": "python",
   "nbconvert_exporter": "python",
   "pygments_lexer": "ipython3",
   "version": "3.8.5"
  },
  "source_map": [
   10
  ]
 },
 "nbformat": 4,
 "nbformat_minor": 4
}