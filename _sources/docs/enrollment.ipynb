{
 "cells": [
  {
   "cell_type": "markdown",
   "metadata": {},
   "source": [
    "(enrollment)=\n",
    "\n",
    "# Enrollment and Waitlist\n",
    "\n",
    "For Dartmouth students, you can track the enrollment status using the ORC timetable.\n",
    "\n",
    "The course is capped at 20 students to facilitate small group collaboration for the final data science project. Please fill out this Google form (while logged in via your Dartmouth email) if you are interested in joining the waiting list for spots freeing up! [Waitlist form](https://docs.google.com/forms/d/e/1FAIpQLScxTwR9A8gZ1_uvlEzCtsVFaoQnXmaYQq3kNdfG5Tv3ECUrcA/viewform)"
   ]
  }
 ],
 "metadata": {
  "jupytext": {
   "text_representation": {
    "extension": ".md",
    "format_name": "myst"
   }
  },
  "kernelspec": {
   "display_name": "Python 3",
   "language": "python",
   "name": "python3"
  },
  "language_info": {
   "codemirror_mode": {
    "name": "ipython",
    "version": 3
   },
   "file_extension": ".py",
   "mimetype": "text/x-python",
   "name": "python",
   "nbconvert_exporter": "python",
   "pygments_lexer": "ipython3",
   "version": "3.8.5"
  },
  "source_map": [
   10
  ]
 },
 "nbformat": 4,
 "nbformat_minor": 4
}